{
  "nbformat": 4,
  "nbformat_minor": 0,
  "metadata": {
    "colab": {
      "provenance": [],
      "gpuType": "T4"
    },
    "kernelspec": {
      "name": "python3",
      "display_name": "Python 3"
    },
    "language_info": {
      "name": "python"
    },
    "accelerator": "GPU"
  },
  "cells": [
    {
      "cell_type": "markdown",
      "source": [
        "# Face Re-Aging Demos with Gradio\n",
        "To try out the Gradio Demos using Google Colab, run the cells below.\n",
        "Be sure to select a runtime with GPU (e.g. `Runtime > Change Runtime Type > T4 (GPU)`) to make the model run fast.\n",
        "\n",
        "You can choose to either run the regular inference demo or the video demo. The demo will open in a new tab."
      ],
      "metadata": {
        "id": "8UPyx2FOi0bW"
      }
    },
    {
      "cell_type": "markdown",
      "source": [
        "## Downloading files and model"
      ],
      "metadata": {
        "id": "V63jr7pmWMKX"
      }
    },
    {
      "cell_type": "code",
      "execution_count": null,
      "metadata": {
        "id": "Fl-OWpFqVLad",
        "outputId": "c62f1b7f-c306-45d6-f30d-f20f26faac78",
        "colab": {
          "base_uri": "https://localhost:8080/"
        }
      },
      "outputs": [
        {
          "output_type": "stream",
          "name": "stdout",
          "text": [
            "Cloning into 'face_reaging'...\n"
          ]
        }
      ],
      "source": [
        "!git clone https://github.com/timroelofs123/face_reaging"
      ]
    },
    {
      "cell_type": "code",
      "source": [
        "!git clone https://huggingface.co/timroelofs123/face_re-aging"
      ],
      "metadata": {
        "id": "ljqHF5EJWGoO"
      },
      "execution_count": null,
      "outputs": []
    },
    {
      "cell_type": "code",
      "source": [
        "%mv face_re-aging/best_unet_model.pth face_reaging/\n",
        "%cd face_reaging/"
      ],
      "metadata": {
        "id": "Vawn2UimWajy"
      },
      "execution_count": null,
      "outputs": []
    },
    {
      "cell_type": "markdown",
      "source": [
        "## Installing requirements"
      ],
      "metadata": {
        "id": "OezK6WkeWz2G"
      }
    },
    {
      "cell_type": "code",
      "source": [
        "%pip install gradio face_recognition antialiased_cnns kaleido av --quiet"
      ],
      "metadata": {
        "id": "U29EGu-tW69J"
      },
      "execution_count": null,
      "outputs": []
    },
    {
      "cell_type": "markdown",
      "source": [
        "## Running demo"
      ],
      "metadata": {
        "id": "W1uWzCNyXafL"
      }
    },
    {
      "cell_type": "markdown",
      "source": [
        "Re-age your photo or video with the three demos."
      ],
      "metadata": {
        "id": "BTQxJNr2ipm_"
      }
    },
    {
      "cell_type": "code",
      "source": [
        "import gradio as gr\n",
        "import torch\n",
        "from model.models import UNet\n",
        "from scripts.test_functions import process_image, process_video"
      ],
      "metadata": {
        "id": "P-ZLGAp82ewt"
      },
      "execution_count": null,
      "outputs": []
    },
    {
      "cell_type": "code",
      "source": [
        "# default settings\n",
        "window_size = 512\n",
        "stride = 256\n",
        "steps = 18\n",
        "frame_count = 100\n",
        "model_path = 'best_unet_model.pth'"
      ],
      "metadata": {
        "id": "izknf3I1XcyU"
      },
      "execution_count": null,
      "outputs": []
    },
    {
      "cell_type": "code",
      "source": [
        "# The code from this block equivalent to the \"run\" function in scripts.gradio_demo\n",
        "\n",
        "device = torch.device(\"cuda:0\" if torch.cuda.is_available() else \"cpu\")\n",
        "unet_model = UNet().to(device)\n",
        "unet_model.load_state_dict(torch.load(model_path, map_location=device))\n",
        "unet_model.eval()\n",
        "\n",
        "def block_vid(video_path, source_age, target_age):\n",
        "    return process_video(unet_model, video_path, source_age, target_age,\n",
        "                          window_size=window_size, stride=stride, frame_count=frame_count)\n",
        "\n",
        "demo_vid = gr.Interface(\n",
        "    fn=block_vid,\n",
        "    inputs=[\n",
        "        gr.Video(),\n",
        "        gr.Slider(10, 90, value=20, step=1, label=\"Current age\", info=\"Choose your current age\"),\n",
        "        gr.Slider(10, 90, value=80, step=1, label=\"Target age\", info=\"Choose the age you want to become\")\n",
        "    ],\n",
        "    outputs=gr.Video(),\n",
        "    examples=[\n",
        "        ['/content/video.mp4', 20, 60],\n",
        "    ],\n",
        "    description=\"Input a video of a person, and it will be aged frame-by-frame.\"\n",
        ")\n",
        "\n",
        "demo = gr.TabbedInterface([demo_vid],\n",
        "                          tab_names=['Video inference demo'],\n",
        "                          title=\"Face Re-Aging Demo\",\n",
        "                          )"
      ],
      "metadata": {
        "id": "hHq3rGOVr0gQ"
      },
      "execution_count": null,
      "outputs": []
    },
    {
      "cell_type": "code",
      "source": [
        "demo.launch()"
      ],
      "metadata": {
        "id": "6q2f1hVB02t-"
      },
      "execution_count": null,
      "outputs": []
    },
    {
      "cell_type": "code",
      "source": [],
      "metadata": {
        "id": "W4zzxbRWBCpy"
      },
      "execution_count": null,
      "outputs": []
    }
  ]
}