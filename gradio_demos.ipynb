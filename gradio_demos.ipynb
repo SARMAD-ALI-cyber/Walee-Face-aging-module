{
  "cells": [
    {
      "cell_type": "markdown",
      "metadata": {
        "id": "8UPyx2FOi0bW"
      },
      "source": [
        "# Face Re-Aging Demos with Gradio\n",
        "To try out the Gradio Demos using Google Colab, run the cells below.\n",
        "Be sure to select a runtime with GPU (e.g. `Runtime > Change Runtime Type > T4 (GPU)`) to make the model run fast.\n",
        "\n",
        "You can choose to either run the regular inference demo or the video demo. The demo will open in a new tab."
      ]
    },
    {
      "cell_type": "markdown",
      "metadata": {
        "id": "V63jr7pmWMKX"
      },
      "source": [
        "## Downloading files and model"
      ]
    },
    {
      "cell_type": "code",
      "execution_count": 1,
      "metadata": {
        "colab": {
          "base_uri": "https://localhost:8080/"
        },
        "id": "Fl-OWpFqVLad",
        "outputId": "2213db85-19ae-44ac-d518-1d33f133dc57"
      },
      "outputs": [
        {
          "name": "stderr",
          "output_type": "stream",
          "text": [
            "Cloning into 'face_reaging'...\n"
          ]
        }
      ],
      "source": [
        "!git clone https://github.com/timroelofs123/face_reaging"
      ]
    },
    {
      "cell_type": "code",
      "execution_count": 2,
      "metadata": {
        "colab": {
          "base_uri": "https://localhost:8080/"
        },
        "id": "ljqHF5EJWGoO",
        "outputId": "a3c6a631-7749-4d07-97fd-b865a3ed8106"
      },
      "outputs": [
        {
          "name": "stderr",
          "output_type": "stream",
          "text": [
            "Cloning into 'face_re-aging'...\n",
            "Updating files: 100% (4/4)\n",
            "Updating files: 100% (4/4), done.\n",
            "Filtering content: 100% (2/2)\n",
            "Filtering content: 100% (2/2), 121.06 MiB | 6.36 MiB/s, done.\n"
          ]
        }
      ],
      "source": [
        "!git clone https://huggingface.co/timroelofs123/face_re-aging"
      ]
    },
    {
      "cell_type": "code",
      "execution_count": 10,
      "metadata": {
        "colab": {
          "base_uri": "https://localhost:8080/"
        },
        "id": "Vawn2UimWajy",
        "outputId": "da599da9-4ab4-4c1a-fbc9-475300c7e1e6"
      },
      "outputs": [
        {
          "name": "stdout",
          "output_type": "stream",
          "text": [
            "        1 file(s) moved.\n"
          ]
        }
      ],
      "source": [
        "!move E:\\WALEE_INTERNSHIP\\Age_Transformation\\Face_Reagging\\NoteBooks\\face_re-aging\\best_unet_model.pth E:\\WALEE_INTERNSHIP\\Age_Transformation\\Face_Reagging\\NoteBooks\\face_reaging"
      ]
    },
    {
      "cell_type": "code",
      "execution_count": 11,
      "metadata": {},
      "outputs": [],
      "source": [
        "import os\n",
        "os.chdir('E:\\\\WALEE_INTERNSHIP\\\\Age_Transformation\\\\Face_Reagging\\\\NoteBooks\\\\face_reaging')"
      ]
    },
    {
      "cell_type": "markdown",
      "metadata": {
        "id": "OezK6WkeWz2G"
      },
      "source": [
        "## Installing requirements"
      ]
    },
    {
      "cell_type": "code",
      "execution_count": null,
      "metadata": {
        "id": "U29EGu-tW69J"
      },
      "outputs": [],
      "source": [
        "%pip install gradio face_recognition antialiased_cnns kaleido av --quiet"
      ]
    },
    {
      "cell_type": "markdown",
      "metadata": {
        "id": "W1uWzCNyXafL"
      },
      "source": [
        "## Running demo"
      ]
    },
    {
      "cell_type": "markdown",
      "metadata": {
        "id": "BTQxJNr2ipm_"
      },
      "source": [
        "Re-age your photo or video with the three demos."
      ]
    },
    {
      "cell_type": "code",
      "execution_count": 2,
      "metadata": {
        "id": "P-ZLGAp82ewt"
      },
      "outputs": [],
      "source": [
        "import gradio as gr\n",
        "import torch\n",
        "from model.models import UNet\n",
        "from scripts.test_functions import process_image, process_video"
      ]
    },
    {
      "cell_type": "code",
      "execution_count": 5,
      "metadata": {
        "id": "izknf3I1XcyU"
      },
      "outputs": [],
      "source": [
        "# default settings\n",
        "window_size = 512\n",
        "stride = 256\n",
        "steps = 18\n",
        "frame_count = 750\n",
        "model_path = 'E:\\\\WALEE_INTERNSHIP\\\\Age_Transformation\\\\Face_Reagging\\\\best_unet_model.pth'"
      ]
    },
    {
      "cell_type": "code",
      "execution_count": 6,
      "metadata": {
        "colab": {
          "base_uri": "https://localhost:8080/"
        },
        "id": "hHq3rGOVr0gQ",
        "outputId": "a40a8cbc-3b44-4e93-a805-7b88e47d1cf9"
      },
      "outputs": [
        {
          "name": "stderr",
          "output_type": "stream",
          "text": [
            "C:\\Users\\Dell pc\\AppData\\Local\\Temp\\ipykernel_37096\\2858657590.py:5: FutureWarning: You are using `torch.load` with `weights_only=False` (the current default value), which uses the default pickle module implicitly. It is possible to construct malicious pickle data which will execute arbitrary code during unpickling (See https://github.com/pytorch/pytorch/blob/main/SECURITY.md#untrusted-models for more details). In a future release, the default value for `weights_only` will be flipped to `True`. This limits the functions that could be executed during unpickling. Arbitrary objects will no longer be allowed to be loaded via this mode unless they are explicitly allowlisted by the user via `torch.serialization.add_safe_globals`. We recommend you start setting `weights_only=True` for any use case where you don't have full control of the loaded file. Please open an issue on GitHub for any issues related to this experimental feature.\n",
            "  unet_model.load_state_dict(torch.load(model_path, map_location=device))\n"
          ]
        }
      ],
      "source": [
        "# The code from this block equivalent to the \"run\" function in scripts.gradio_demo\n",
        "\n",
        "device = torch.device(\"cuda:0\" if torch.cuda.is_available() else \"cpu\")\n",
        "unet_model = UNet().to(device)\n",
        "unet_model.load_state_dict(torch.load(model_path, map_location=device))\n",
        "unet_model.eval()\n",
        "\n",
        "def block_vid(video_path, source_age, target_age):\n",
        "    return process_video(unet_model, video_path, source_age, target_age,\n",
        "                          window_size=window_size, stride=stride, frame_count=frame_count)\n",
        "\n",
        "demo_vid = gr.Interface(\n",
        "    fn=block_vid,\n",
        "    inputs=[\n",
        "        gr.Video(),\n",
        "        gr.Slider(10, 90, value=20, step=1, label=\"Current age\", info=\"Choose your current age\"),\n",
        "        gr.Slider(10, 90, value=80, step=1, label=\"Target age\", info=\"Choose the age you want to become\")\n",
        "    ],\n",
        "    outputs=gr.Video(),\n",
        "    examples=[\n",
        "        ['/content/video.mp4', 20, 60],\n",
        "    ],\n",
        "    description=\"Input a video of a person, and it will be aged frame-by-frame.\"\n",
        ")\n",
        "\n",
        "demo = gr.TabbedInterface([demo_vid],\n",
        "                          tab_names=['Video inference demo'],\n",
        "                          title=\"Face Re-Aging Demo\",\n",
        "                          )"
      ]
    },
    {
      "cell_type": "code",
      "execution_count": 7,
      "metadata": {
        "colab": {
          "background_save": true,
          "base_uri": "https://localhost:8080/"
        },
        "id": "6q2f1hVB02t-",
        "outputId": "7b0d986e-ac5e-460e-a053-2099b0faa311"
      },
      "outputs": [
        {
          "name": "stdout",
          "output_type": "stream",
          "text": [
            "* Running on local URL:  http://127.0.0.1:7860\n",
            "\n",
            "To create a public link, set `share=True` in `launch()`.\n"
          ]
        },
        {
          "data": {
            "text/html": [
              "<div><iframe src=\"http://127.0.0.1:7860/\" width=\"100%\" height=\"500\" allow=\"autoplay; camera; microphone; clipboard-read; clipboard-write;\" frameborder=\"0\" allowfullscreen></iframe></div>"
            ],
            "text/plain": [
              "<IPython.core.display.HTML object>"
            ]
          },
          "metadata": {},
          "output_type": "display_data"
        }
      ],
      "source": [
        "demo.launch(debug=True)"
      ]
    }
  ],
  "metadata": {
    "accelerator": "GPU",
    "colab": {
      "gpuType": "T4",
      "provenance": []
    },
    "kernelspec": {
      "display_name": "Python 3",
      "name": "python3"
    },
    "language_info": {
      "codemirror_mode": {
        "name": "ipython",
        "version": 3
      },
      "file_extension": ".py",
      "mimetype": "text/x-python",
      "name": "python",
      "nbconvert_exporter": "python",
      "pygments_lexer": "ipython3",
      "version": "3.12.1"
    }
  },
  "nbformat": 4,
  "nbformat_minor": 0
}
